{
 "cells": [
  {
   "cell_type": "code",
   "execution_count": 79,
   "source": [
    "# Importing the relevent directories\r\n",
    "\r\n",
    "from splinter import Browser\r\n",
    "from bs4 import BeautifulSoup\r\n",
    "from webdriver_manager.chrome import ChromeDriverManager\r\n",
    "import pandas as pd"
   ],
   "outputs": [],
   "metadata": {}
  },
  {
   "cell_type": "markdown",
   "source": [
    "Scraping data using Splinter for https://redplanetscience.com/ where we need the Latest news title and paragraph"
   ],
   "metadata": {}
  },
  {
   "cell_type": "code",
   "execution_count": 80,
   "source": [
    " # Setup splinter\r\n",
    "executable_path = {'executable_path': ChromeDriverManager().install()}\r\n",
    "browser = Browser('chrome', **executable_path, headless=False)"
   ],
   "outputs": [
    {
     "output_type": "stream",
     "name": "stderr",
     "text": [
      "\n",
      "\n",
      "====== WebDriver manager ======\n",
      "Current google-chrome version is 92.0.4515\n",
      "Get LATEST driver version for 92.0.4515\n",
      "Driver [C:\\Users\\sunny\\.wdm\\drivers\\chromedriver\\win32\\92.0.4515.107\\chromedriver.exe] found in cache\n"
     ]
    }
   ],
   "metadata": {}
  },
  {
   "cell_type": "code",
   "execution_count": 81,
   "source": [
    "marslatest = {}\r\n",
    "\r\n",
    "# URL for NASA Mars News\r\n",
    "url = 'https://redplanetscience.com/'\r\n",
    "browser.visit(url)\r\n",
    "     \r\n",
    "# HTML object\r\n",
    "html = browser.html\r\n",
    "\r\n",
    "# Parse HTML with Beautiful Soup\r\n",
    "soup = BeautifulSoup(html, 'html.parser')\r\n",
    "\r\n",
    "# Retrieve all elements that contain book information\r\n",
    "latestnews = soup.find_all('div', class_='list_text')\r\n",
    "\r\n",
    "for news in latestnews:\r\n",
    "    marslatest[\"title\"]     = news.find(class_='content_title').get_text()\r\n",
    "    marslatest[\"paragraph\"] = news.find(class_='article_teaser_body').get_text()\r\n",
    "    print(marslatest)\r\n",
    "    print(\"---------------------------------------------------------------------------------------------------------------------\")"
   ],
   "outputs": [
    {
     "output_type": "stream",
     "name": "stdout",
     "text": [
      "{'title': \"The Detective Aboard NASA's Perseverance Rover\", 'paragraph': 'An instrument called SHERLOC will, with the help of its partner WATSON, hunt for signs of ancient life by detecting organic molecules and minerals.'}\n",
      "---------------------------------------------------------------------------------------------------------------------\n",
      "{'title': \"Air Deliveries Bring NASA's Perseverance Mars Rover Closer to Launch\", 'paragraph': \"A NASA Wallops Flight Facility cargo plane transported more than two tons of equipment — including the rover's sample collection tubes — to Florida for this summer's liftoff.\"}\n",
      "---------------------------------------------------------------------------------------------------------------------\n",
      "{'title': \"NASA's Mars Helicopter Attached to Mars 2020 Rover \", 'paragraph': 'The helicopter will be first aircraft to perform flight tests on another planet.'}\n",
      "---------------------------------------------------------------------------------------------------------------------\n",
      "{'title': 'Two Rovers to Roll on Mars Again: Curiosity and Mars 2020', 'paragraph': 'They look like twins. But under the hood, the rover currently exploring the Red Planet and the one launching there this summer have distinct science tools and roles to play.'}\n",
      "---------------------------------------------------------------------------------------------------------------------\n",
      "{'title': \"NASA's Mars 2020 Rover Completes Its First Drive\", 'paragraph': 'In a 10-plus-hour marathon, the rover steered, turned and drove in 3-foot (1-meter) increments over small ramps.'}\n",
      "---------------------------------------------------------------------------------------------------------------------\n",
      "{'title': \"Mars InSight Lander to Push on Top of the 'Mole'\", 'paragraph': 'Engineers have a plan for pushing down on the heat probe, which has been stuck at the Martian surface for a year.'}\n",
      "---------------------------------------------------------------------------------------------------------------------\n",
      "{'title': \"Alabama High School Student Names NASA's Mars Helicopter\", 'paragraph': \"Vaneeza Rupani's essay was chosen as the name for the small spacecraft, which will mark NASA's first attempt at powered flight on another planet.\"}\n",
      "---------------------------------------------------------------------------------------------------------------------\n",
      "{'title': \"The Launch Is Approaching for NASA's Next Mars Rover, Perseverance\", 'paragraph': \"The Red Planet's surface has been visited by eight NASA spacecraft. The ninth will be the first that includes a roundtrip ticket in its flight plan. \"}\n",
      "---------------------------------------------------------------------------------------------------------------------\n",
      "{'title': \"NASA's Perseverance Rover Will Peer Beneath Mars' Surface \", 'paragraph': \"The agency's newest rover will use the first ground-penetrating radar instrument on the Martian surface to help search for signs of past microbial life. \"}\n",
      "---------------------------------------------------------------------------------------------------------------------\n",
      "{'title': 'NASA Wins Two Emmy Awards for Interactive Mission Coverage', 'paragraph': \"NASA-JPL's coverage of the Mars InSight landing earns one of the two wins, making this the NASA center's second Emmy.\"}\n",
      "---------------------------------------------------------------------------------------------------------------------\n",
      "{'title': \"Robotic Toolkit Added to NASA's Mars 2020 Rover\", 'paragraph': \"The bit carousel, which lies at the heart of the rover's Sample Caching System, is now aboard NASA's newest rover. \"}\n",
      "---------------------------------------------------------------------------------------------------------------------\n",
      "{'title': \"NASA's Mars 2020 Rover Goes Coast-to-Coast to Prep for Launch\", 'paragraph': \"The agency's first step in returning rocks from Mars just arrived at Kennedy Space Center. The Mars 2020 team now begins readying for a launch to the Red Planet this July.\"}\n",
      "---------------------------------------------------------------------------------------------------------------------\n",
      "{'title': 'Mars Scientists Investigate Ancient Life in Australia', 'paragraph': \"Teams with NASA's Mars 2020 and ESA's ExoMars practiced hunting for fossilized microbial life in the Australian Outback in preparation for their Red Planet missions. \"}\n",
      "---------------------------------------------------------------------------------------------------------------------\n",
      "{'title': \"Virginia Middle School Student Earns Honor of Naming NASA's Next Mars Rover\", 'paragraph': 'NASA chose a seventh-grader from Virginia as winner of the agency\\'s \"Name the Rover\" essay contest. Alexander Mather\\'s entry for \"Perseverance\" was voted tops among 28,000 entries. '}\n",
      "---------------------------------------------------------------------------------------------------------------------\n",
      "{'title': \"NASA's Perseverance Mars Rover Gets Balanced\", 'paragraph': \"The mission team performed a crucial weight-balancing test on the rover in preparation for this summer's history-making launch to the Red Planet.\"}\n",
      "---------------------------------------------------------------------------------------------------------------------\n"
     ]
    }
   ],
   "metadata": {}
  },
  {
   "cell_type": "code",
   "execution_count": 82,
   "source": [
    "browser.quit()"
   ],
   "outputs": [],
   "metadata": {}
  },
  {
   "cell_type": "markdown",
   "source": [
    "Scraping image using Splinter from https://spaceimages-mars.com/ for latest featured Mars Image"
   ],
   "metadata": {}
  },
  {
   "cell_type": "code",
   "execution_count": 83,
   "source": [
    "executable_path = {'executable_path': ChromeDriverManager().install()}\r\n",
    "browser = Browser('chrome', **executable_path, headless=False)\r\n",
    "    \r\n",
    "# URL for NASA Mars News\r\n",
    "url = 'https://spaceimages-mars.com/'\r\n",
    "browser.visit(url)\r\n",
    "      \r\n",
    "# HTML object\r\n",
    "html = browser.html\r\n",
    "\r\n",
    "# Parse HTML with Beautiful Soup\r\n",
    "soup = BeautifulSoup(html, 'html.parser')\r\n",
    "\r\n",
    "# Retrieve the header image from Space Image website\r\n",
    "marsimage       = soup.find('img', class_='headerimage fade-in') \r\n",
    "   \r\n",
    "image           = marsimage['src']\r\n",
    "\r\n",
    "# Saving the the web link in featured_image)url\r\n",
    "featured_image_url = ('https://spaceimages-mars.com/' + image)\r\n",
    "\r\n",
    "print(featured_image_url)"
   ],
   "outputs": [
    {
     "output_type": "stream",
     "name": "stderr",
     "text": [
      "\n",
      "\n",
      "====== WebDriver manager ======\n",
      "Current google-chrome version is 92.0.4515\n",
      "Get LATEST driver version for 92.0.4515\n",
      "Driver [C:\\Users\\sunny\\.wdm\\drivers\\chromedriver\\win32\\92.0.4515.107\\chromedriver.exe] found in cache\n"
     ]
    },
    {
     "output_type": "stream",
     "name": "stdout",
     "text": [
      "https://spaceimages-mars.com/image/featured/mars3.jpg\n"
     ]
    }
   ],
   "metadata": {}
  },
  {
   "cell_type": "code",
   "execution_count": 84,
   "source": [
    "browser.quit()"
   ],
   "outputs": [],
   "metadata": {}
  },
  {
   "cell_type": "markdown",
   "source": [
    "Scraping with Pandas"
   ],
   "metadata": {}
  },
  {
   "cell_type": "code",
   "execution_count": 85,
   "source": [
    "url = 'https://galaxyfacts-mars.com/'\r\n",
    "tables = pd.read_html(url)\r\n",
    "tables"
   ],
   "outputs": [
    {
     "output_type": "execute_result",
     "data": {
      "text/plain": [
       "[                         0                1                2\n",
       " 0  Mars - Earth Comparison             Mars            Earth\n",
       " 1                Diameter:         6,779 km        12,742 km\n",
       " 2                    Mass:  6.39 × 10^23 kg  5.97 × 10^24 kg\n",
       " 3                   Moons:                2                1\n",
       " 4       Distance from Sun:   227,943,824 km   149,598,262 km\n",
       " 5          Length of Year:   687 Earth days      365.24 days\n",
       " 6             Temperature:     -87 to -5 °C      -88 to 58°C,\n",
       "                       0                              1\n",
       " 0  Equatorial Diameter:                       6,792 km\n",
       " 1       Polar Diameter:                       6,752 km\n",
       " 2                 Mass:  6.39 × 10^23 kg (0.11 Earths)\n",
       " 3                Moons:          2 ( Phobos & Deimos )\n",
       " 4       Orbit Distance:       227,943,824 km (1.38 AU)\n",
       " 5         Orbit Period:           687 days (1.9 years)\n",
       " 6  Surface Temperature:                   -87 to -5 °C\n",
       " 7         First Record:              2nd millennium BC\n",
       " 8          Recorded By:           Egyptian astronomers]"
      ]
     },
     "metadata": {},
     "execution_count": 85
    }
   ],
   "metadata": {}
  },
  {
   "cell_type": "markdown",
   "source": [
    "Transpose the Mars Planet Profile table with appropriate Headers"
   ],
   "metadata": {}
  },
  {
   "cell_type": "code",
   "execution_count": 86,
   "source": [
    "profile_df = tables[1]\r\n",
    "transpose_profile_df = profile_df.transpose()\r\n",
    "transpose_profile_df.columns = transpose_profile_df.iloc[0]\r\n",
    "transpose_profile_df = transpose_profile_df[1:]\r\n",
    "transpose_profile_df"
   ],
   "outputs": [
    {
     "output_type": "execute_result",
     "data": {
      "text/plain": [
       "0 Equatorial Diameter: Polar Diameter:                          Mass:  \\\n",
       "1             6,792 km        6,752 km  6.39 × 10^23 kg (0.11 Earths)   \n",
       "\n",
       "0                 Moons:           Orbit Distance:         Orbit Period:  \\\n",
       "1  2 ( Phobos & Deimos )  227,943,824 km (1.38 AU)  687 days (1.9 years)   \n",
       "\n",
       "0 Surface Temperature:      First Record:          Recorded By:  \n",
       "1         -87 to -5 °C  2nd millennium BC  Egyptian astronomers  "
      ],
      "text/html": [
       "<div>\n",
       "<style scoped>\n",
       "    .dataframe tbody tr th:only-of-type {\n",
       "        vertical-align: middle;\n",
       "    }\n",
       "\n",
       "    .dataframe tbody tr th {\n",
       "        vertical-align: top;\n",
       "    }\n",
       "\n",
       "    .dataframe thead th {\n",
       "        text-align: right;\n",
       "    }\n",
       "</style>\n",
       "<table border=\"1\" class=\"dataframe\">\n",
       "  <thead>\n",
       "    <tr style=\"text-align: right;\">\n",
       "      <th></th>\n",
       "      <th>Equatorial Diameter:</th>\n",
       "      <th>Polar Diameter:</th>\n",
       "      <th>Mass:</th>\n",
       "      <th>Moons:</th>\n",
       "      <th>Orbit Distance:</th>\n",
       "      <th>Orbit Period:</th>\n",
       "      <th>Surface Temperature:</th>\n",
       "      <th>First Record:</th>\n",
       "      <th>Recorded By:</th>\n",
       "    </tr>\n",
       "  </thead>\n",
       "  <tbody>\n",
       "    <tr>\n",
       "      <th>1</th>\n",
       "      <td>6,792 km</td>\n",
       "      <td>6,752 km</td>\n",
       "      <td>6.39 × 10^23 kg (0.11 Earths)</td>\n",
       "      <td>2 ( Phobos &amp; Deimos )</td>\n",
       "      <td>227,943,824 km (1.38 AU)</td>\n",
       "      <td>687 days (1.9 years)</td>\n",
       "      <td>-87 to -5 °C</td>\n",
       "      <td>2nd millennium BC</td>\n",
       "      <td>Egyptian astronomers</td>\n",
       "    </tr>\n",
       "  </tbody>\n",
       "</table>\n",
       "</div>"
      ]
     },
     "metadata": {},
     "execution_count": 86
    }
   ],
   "metadata": {}
  },
  {
   "cell_type": "markdown",
   "source": [
    "Converting the Mars Planet Profile Pandas Dataframe to HTML table"
   ],
   "metadata": {}
  },
  {
   "cell_type": "code",
   "execution_count": 87,
   "source": [
    "html_profile_table = transpose_profile_df.to_html()\r\n",
    "html_profile_table"
   ],
   "outputs": [
    {
     "output_type": "execute_result",
     "data": {
      "text/plain": [
       "'<table border=\"1\" class=\"dataframe\">\\n  <thead>\\n    <tr style=\"text-align: right;\">\\n      <th></th>\\n      <th>Equatorial Diameter:</th>\\n      <th>Polar Diameter:</th>\\n      <th>Mass:</th>\\n      <th>Moons:</th>\\n      <th>Orbit Distance:</th>\\n      <th>Orbit Period:</th>\\n      <th>Surface Temperature:</th>\\n      <th>First Record:</th>\\n      <th>Recorded By:</th>\\n    </tr>\\n  </thead>\\n  <tbody>\\n    <tr>\\n      <th>1</th>\\n      <td>6,792 km</td>\\n      <td>6,752 km</td>\\n      <td>6.39 × 10^23 kg (0.11 Earths)</td>\\n      <td>2 ( Phobos &amp; Deimos )</td>\\n      <td>227,943,824 km (1.38 AU)</td>\\n      <td>687 days (1.9 years)</td>\\n      <td>-87 to -5 °C</td>\\n      <td>2nd millennium BC</td>\\n      <td>Egyptian astronomers</td>\\n    </tr>\\n  </tbody>\\n</table>'"
      ]
     },
     "metadata": {},
     "execution_count": 87
    }
   ],
   "metadata": {}
  },
  {
   "cell_type": "markdown",
   "source": [
    "Transpose the Mars - Earth Comparision table with appropriate Headers"
   ],
   "metadata": {}
  },
  {
   "cell_type": "code",
   "execution_count": 88,
   "source": [
    "comparision_df = tables[0]\r\n",
    "transpose_comp_df = comparision_df.transpose()\r\n",
    "transpose_comp_df.columns = transpose_comp_df.iloc[0]\r\n",
    "transpose_comp_df = transpose_comp_df[1:]\r\n",
    "transpose_comp_df"
   ],
   "outputs": [
    {
     "output_type": "execute_result",
     "data": {
      "text/plain": [
       "0 Mars - Earth Comparison  Diameter:            Mass: Moons:  \\\n",
       "1                    Mars   6,779 km  6.39 × 10^23 kg      2   \n",
       "2                   Earth  12,742 km  5.97 × 10^24 kg      1   \n",
       "\n",
       "0 Distance from Sun: Length of Year:  Temperature:  \n",
       "1     227,943,824 km  687 Earth days  -87 to -5 °C  \n",
       "2     149,598,262 km     365.24 days   -88 to 58°C  "
      ],
      "text/html": [
       "<div>\n",
       "<style scoped>\n",
       "    .dataframe tbody tr th:only-of-type {\n",
       "        vertical-align: middle;\n",
       "    }\n",
       "\n",
       "    .dataframe tbody tr th {\n",
       "        vertical-align: top;\n",
       "    }\n",
       "\n",
       "    .dataframe thead th {\n",
       "        text-align: right;\n",
       "    }\n",
       "</style>\n",
       "<table border=\"1\" class=\"dataframe\">\n",
       "  <thead>\n",
       "    <tr style=\"text-align: right;\">\n",
       "      <th></th>\n",
       "      <th>Mars - Earth Comparison</th>\n",
       "      <th>Diameter:</th>\n",
       "      <th>Mass:</th>\n",
       "      <th>Moons:</th>\n",
       "      <th>Distance from Sun:</th>\n",
       "      <th>Length of Year:</th>\n",
       "      <th>Temperature:</th>\n",
       "    </tr>\n",
       "  </thead>\n",
       "  <tbody>\n",
       "    <tr>\n",
       "      <th>1</th>\n",
       "      <td>Mars</td>\n",
       "      <td>6,779 km</td>\n",
       "      <td>6.39 × 10^23 kg</td>\n",
       "      <td>2</td>\n",
       "      <td>227,943,824 km</td>\n",
       "      <td>687 Earth days</td>\n",
       "      <td>-87 to -5 °C</td>\n",
       "    </tr>\n",
       "    <tr>\n",
       "      <th>2</th>\n",
       "      <td>Earth</td>\n",
       "      <td>12,742 km</td>\n",
       "      <td>5.97 × 10^24 kg</td>\n",
       "      <td>1</td>\n",
       "      <td>149,598,262 km</td>\n",
       "      <td>365.24 days</td>\n",
       "      <td>-88 to 58°C</td>\n",
       "    </tr>\n",
       "  </tbody>\n",
       "</table>\n",
       "</div>"
      ]
     },
     "metadata": {},
     "execution_count": 88
    }
   ],
   "metadata": {}
  },
  {
   "cell_type": "markdown",
   "source": [
    "Converting the Mars - Earth Comparision Pandas Dataframe to HTML table"
   ],
   "metadata": {}
  },
  {
   "cell_type": "code",
   "execution_count": 89,
   "source": [
    "html_comp_table = transpose_comp_df.to_html()\r\n",
    "html_comp_table"
   ],
   "outputs": [
    {
     "output_type": "execute_result",
     "data": {
      "text/plain": [
       "'<table border=\"1\" class=\"dataframe\">\\n  <thead>\\n    <tr style=\"text-align: right;\">\\n      <th></th>\\n      <th>Mars - Earth Comparison</th>\\n      <th>Diameter:</th>\\n      <th>Mass:</th>\\n      <th>Moons:</th>\\n      <th>Distance from Sun:</th>\\n      <th>Length of Year:</th>\\n      <th>Temperature:</th>\\n    </tr>\\n  </thead>\\n  <tbody>\\n    <tr>\\n      <th>1</th>\\n      <td>Mars</td>\\n      <td>6,779 km</td>\\n      <td>6.39 × 10^23 kg</td>\\n      <td>2</td>\\n      <td>227,943,824 km</td>\\n      <td>687 Earth days</td>\\n      <td>-87 to -5 °C</td>\\n    </tr>\\n    <tr>\\n      <th>2</th>\\n      <td>Earth</td>\\n      <td>12,742 km</td>\\n      <td>5.97 × 10^24 kg</td>\\n      <td>1</td>\\n      <td>149,598,262 km</td>\\n      <td>365.24 days</td>\\n      <td>-88 to 58°C</td>\\n    </tr>\\n  </tbody>\\n</table>'"
      ]
     },
     "metadata": {},
     "execution_count": 89
    }
   ],
   "metadata": {}
  },
  {
   "cell_type": "markdown",
   "source": [
    "Scraping the Titles and image url from Mars Hemisphere website"
   ],
   "metadata": {}
  },
  {
   "cell_type": "code",
   "execution_count": 90,
   "source": [
    " # Setup splinter\r\n",
    "executable_path = {'executable_path': ChromeDriverManager().install()}\r\n",
    "browser = Browser('chrome', **executable_path, headless=False)\r\n",
    "\r\n",
    "# URL for NASA Mars News\r\n",
    "url = 'https://marshemispheres.com/'\r\n",
    "browser.visit(url)\r\n",
    "\r\n",
    "hemisphere_images_urls = {}\r\n",
    "\r\n",
    "# HTML object\r\n",
    "html = browser.html\r\n",
    "\r\n",
    "# Parse HTML with Beautiful Soup\r\n",
    "soup = BeautifulSoup(html, 'html.parser')\r\n",
    "\r\n",
    "# Retrieve all elements that contain book information\r\n",
    "images = soup.find_all('div', class_='description')\r\n",
    "\r\n",
    "for image in images:\r\n",
    "    hemisphere_images_urls[\"title\"] = image.find('h3').get_text()\r\n",
    "    a = image.find('a')\r\n",
    "    href = a['href']\r\n",
    "\r\n",
    "    url2 = \"https://marshemispheres.com/\" + href\r\n",
    "    browser.visit(url2)\r\n",
    "\r\n",
    "    html = browser.html\r\n",
    "\r\n",
    "    soup = BeautifulSoup(html, 'html.parser')\r\n",
    "\r\n",
    "    wideimage = soup.find(class_='wide-image')\r\n",
    "    #image2    = wideimage.find(class_='wide-image')\r\n",
    "    imageurl = wideimage['src']\r\n",
    "\r\n",
    "    hemisphere_images_urls[\"img_url\"] = \"https://marshemispheres.com/\" + imageurl\r\n",
    "\r\n",
    "    print(hemisphere_images_urls)\r\n",
    "\r\n",
    "\r\n"
   ],
   "outputs": [
    {
     "output_type": "stream",
     "name": "stderr",
     "text": [
      "\n",
      "\n",
      "====== WebDriver manager ======\n",
      "Current google-chrome version is 92.0.4515\n",
      "Get LATEST driver version for 92.0.4515\n",
      "Driver [C:\\Users\\sunny\\.wdm\\drivers\\chromedriver\\win32\\92.0.4515.107\\chromedriver.exe] found in cache\n"
     ]
    },
    {
     "output_type": "stream",
     "name": "stdout",
     "text": [
      "{'title': 'Cerberus Hemisphere Enhanced', 'img_url': 'https://marshemispheres.com/images/f5e372a36edfa389625da6d0cc25d905_cerberus_enhanced.tif_full.jpg'}\n",
      "{'title': 'Schiaparelli Hemisphere Enhanced', 'img_url': 'https://marshemispheres.com/images/3778f7b43bbbc89d6e3cfabb3613ba93_schiaparelli_enhanced.tif_full.jpg'}\n",
      "{'title': 'Syrtis Major Hemisphere Enhanced', 'img_url': 'https://marshemispheres.com/images/555e6403a6ddd7ba16ddb0e471cadcf7_syrtis_major_enhanced.tif_full.jpg'}\n",
      "{'title': 'Valles Marineris Hemisphere Enhanced', 'img_url': 'https://marshemispheres.com/images/b3c7c6c9138f57b4756be9b9c43e3a48_valles_marineris_enhanced.tif_full.jpg'}\n"
     ]
    }
   ],
   "metadata": {}
  },
  {
   "cell_type": "code",
   "execution_count": 91,
   "source": [
    "browser.quit()"
   ],
   "outputs": [],
   "metadata": {}
  }
 ],
 "metadata": {
  "orig_nbformat": 4,
  "language_info": {
   "name": "python",
   "version": "3.6.10",
   "mimetype": "text/x-python",
   "codemirror_mode": {
    "name": "ipython",
    "version": 3
   },
   "pygments_lexer": "ipython3",
   "nbconvert_exporter": "python",
   "file_extension": ".py"
  },
  "kernelspec": {
   "name": "python3",
   "display_name": "Python 3.6.10 64-bit ('PythonData2': conda)"
  },
  "interpreter": {
   "hash": "e0b418b09ac47957412e0b1b3ad755156e145bf5e9f3a21911cb1dcef404ebf8"
  }
 },
 "nbformat": 4,
 "nbformat_minor": 2
}
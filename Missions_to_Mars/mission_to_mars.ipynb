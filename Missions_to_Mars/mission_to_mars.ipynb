{
 "cells": [
  {
   "cell_type": "code",
   "execution_count": 32,
   "source": [
    "# Importing the relevent directories\r\n",
    "\r\n",
    "from splinter import Browser\r\n",
    "from bs4 import BeautifulSoup\r\n",
    "from webdriver_manager.chrome import ChromeDriverManager\r\n",
    "import pandas as pd"
   ],
   "outputs": [],
   "metadata": {}
  },
  {
   "cell_type": "code",
   "execution_count": 34,
   "source": [
    " # Setup splinter\r\n",
    "executable_path = {'executable_path': ChromeDriverManager().install()}\r\n",
    "browser = Browser('chrome', **executable_path, headless=False)"
   ],
   "outputs": [
    {
     "output_type": "stream",
     "name": "stderr",
     "text": [
      "\n",
      "\n",
      "====== WebDriver manager ======\n",
      "Current google-chrome version is 92.0.4515\n",
      "Get LATEST driver version for 92.0.4515\n",
      "Driver [C:\\Users\\sunny\\.wdm\\drivers\\chromedriver\\win32\\92.0.4515.107\\chromedriver.exe] found in cache\n"
     ]
    }
   ],
   "metadata": {}
  },
  {
   "cell_type": "code",
   "execution_count": 35,
   "source": [
    "# Creating a list to scrapping data\r\n",
    "\r\n",
    "marslatest = {}\r\n",
    "marsimage = {}"
   ],
   "outputs": [],
   "metadata": {}
  },
  {
   "cell_type": "markdown",
   "source": [
    "Scraping data using Splinter for https://redplanetscience.com/ where we need the Latest news title and paragraph"
   ],
   "metadata": {}
  },
  {
   "cell_type": "code",
   "execution_count": 36,
   "source": [
    "    # URL for NASA Mars News\r\n",
    "    url = 'https://redplanetscience.com/'\r\n",
    "    browser.visit(url)\r\n",
    "      \r\n",
    "    # HTML object\r\n",
    "    html = browser.html\r\n",
    "\r\n",
    "    # Parse HTML with Beautiful Soup\r\n",
    "    soup = BeautifulSoup(html, 'html.parser')\r\n",
    "\r\n",
    "    # Retrieve all elements that contain book information\r\n",
    "    latestnews = soup.find_all('div', class_='list_text')\r\n",
    "\r\n",
    "    for news in latestnews:\r\n",
    "        marslatest[\"title\"]     = news.find(class_='content_title').get_text()\r\n",
    "        marslatest[\"paragraph\"] = news.find(class_='article_teaser_body').get_text()\r\n",
    "        print(marslatest)\r\n",
    "        print(\"---------------------------------------------------------------------------------------------------------------------\")"
   ],
   "outputs": [
    {
     "output_type": "stream",
     "name": "stdout",
     "text": [
      "{'title': \"NASA's Curiosity Takes Selfie With 'Mary Anning' on the Red Planet\", 'paragraph': 'The Mars rover has drilled three samples of rock in this clay-enriched region since arriving in July.'}\n",
      "---------------------------------------------------------------------------------------------------------------------\n",
      "{'title': \"Follow NASA's Perseverance Rover in Real Time on Its Way to Mars\", 'paragraph': \"A crisply rendered web application can show you where the agency's Mars 2020 mission is right now as it makes its way to the Red Planet for a Feb. 18, 2021, landing.\"}\n",
      "---------------------------------------------------------------------------------------------------------------------\n",
      "{'title': \"NASA's Mars 2020 Rover Closer to Getting Its Name\", 'paragraph': \"155 students from across the U.S. have been chosen as semifinalists in NASA's essay contest to name the Mars 2020 rover, and see it launch from Cape Canaveral this July.\"}\n",
      "---------------------------------------------------------------------------------------------------------------------\n",
      "{'title': \"Hear Audio From NASA's Perseverance As It Travels Through Deep Space\", 'paragraph': \"The first to be rigged with microphones, the agency's latest Mars rover picked up the subtle sounds of its own inner workings during interplanetary flight.\"}\n",
      "---------------------------------------------------------------------------------------------------------------------\n",
      "{'title': \"Curiosity Mars Rover's Summer Road Trip Has Begun\", 'paragraph': 'After more than a year in the \"clay-bearing unit,\" Curiosity is making a mile-long journey around some deep sand so that it can explore higher up Mount Sharp.'}\n",
      "---------------------------------------------------------------------------------------------------------------------\n",
      "{'title': \"Air Deliveries Bring NASA's Perseverance Mars Rover Closer to Launch\", 'paragraph': \"A NASA Wallops Flight Facility cargo plane transported more than two tons of equipment — including the rover's sample collection tubes — to Florida for this summer's liftoff.\"}\n",
      "---------------------------------------------------------------------------------------------------------------------\n",
      "{'title': 'MAVEN Maps Electric Currents around Mars that are Fundamental to Atmospheric Loss', 'paragraph': 'Five years after NASA’s MAVEN spacecraft entered into orbit around Mars, data from the mission has led to the creation of a map of electric current systems in the Martian atmosphere.'}\n",
      "---------------------------------------------------------------------------------------------------------------------\n",
      "{'title': 'NASA Administrator Statement on Moon to Mars Initiative, FY 2021 Budget', 'paragraph': \"Jim Bridenstine addresses NASA's ambitious plans for the coming years, including Mars Sample Return.\"}\n",
      "---------------------------------------------------------------------------------------------------------------------\n",
      "{'title': \"Meet the People Behind NASA's Perseverance Rover\", 'paragraph': \"These are the scientists and engineers who built NASA's next Mars rover and who will guide it to a safe landing in Jezero Crater. \"}\n",
      "---------------------------------------------------------------------------------------------------------------------\n",
      "{'title': \"NASA's Mars 2020 Comes Full Circle\", 'paragraph': \"Aiming to pinpoint the Martian vehicle's center of gravity, engineers took NASA's 2,300-pound Mars 2020 rover for a spin in the clean room at JPL. \"}\n",
      "---------------------------------------------------------------------------------------------------------------------\n",
      "{'title': 'With Mars Methane Mystery Unsolved, Curiosity Serves Scientists a New One: Oxygen', 'paragraph': 'For the first time in the history of space exploration, scientists have measured the seasonal changes in the gases that fill the air directly above the surface of Gale Crater on Mars. '}\n",
      "---------------------------------------------------------------------------------------------------------------------\n",
      "{'title': \"NASA's Perseverance Rover Is Midway to Mars \", 'paragraph': \"Sometimes half measures can be a good thing – especially on a journey this long. The agency's latest rover only has about 146 million miles left to reach its destination.\"}\n",
      "---------------------------------------------------------------------------------------------------------------------\n",
      "{'title': \"Alabama High School Student Names NASA's Mars Helicopter\", 'paragraph': \"Vaneeza Rupani's essay was chosen as the name for the small spacecraft, which will mark NASA's first attempt at powered flight on another planet.\"}\n",
      "---------------------------------------------------------------------------------------------------------------------\n",
      "{'title': \"6 Things to Know About NASA's Ingenuity Mars Helicopter\", 'paragraph': 'The first helicopter attempting to fly on another planet is a marvel of engineering. Get up to speed with these key facts about its plans.'}\n",
      "---------------------------------------------------------------------------------------------------------------------\n",
      "{'title': \"A Year of Surprising Science From NASA's InSight Mars Mission\", 'paragraph': \"A batch of new papers summarizes the lander's findings above and below the surface of the Red Planet.\"}\n",
      "---------------------------------------------------------------------------------------------------------------------\n"
     ]
    }
   ],
   "metadata": {}
  },
  {
   "cell_type": "markdown",
   "source": [
    "Scraping image using Splinter from https://spaceimages-mars.com/ for latest featured Mars Image"
   ],
   "metadata": {}
  },
  {
   "cell_type": "code",
   "execution_count": 37,
   "source": [
    "    executable_path = {'executable_path': ChromeDriverManager().install()}\r\n",
    "    browser = Browser('chrome', **executable_path, headless=False)\r\n",
    "    \r\n",
    "    # URL for NASA Mars News\r\n",
    "    url = 'https://spaceimages-mars.com/'\r\n",
    "    browser.visit(url)\r\n",
    "      \r\n",
    "    # HTML object\r\n",
    "    html = browser.html\r\n",
    "\r\n",
    "    # Parse HTML with Beautiful Soup\r\n",
    "    soup = BeautifulSoup(html, 'html.parser')\r\n",
    "\r\n",
    "    # Retrieve the header image from Space Image website\r\n",
    "    marsimage       = soup.find('img', class_='headerimage fade-in') \r\n",
    "   \r\n",
    "    image           = marsimage['src']\r\n",
    "\r\n",
    "    # Saving the the web link in featured_image)url\r\n",
    "    featured_image_url = ('https://spaceimages-mars.com/' + image)\r\n",
    "\r\n",
    "    print(featured_image_url)\r\n",
    "\r\n",
    "\r\n",
    "\r\n"
   ],
   "outputs": [
    {
     "output_type": "stream",
     "name": "stderr",
     "text": [
      "\n",
      "\n",
      "====== WebDriver manager ======\n",
      "Current google-chrome version is 92.0.4515\n",
      "Get LATEST driver version for 92.0.4515\n",
      "Driver [C:\\Users\\sunny\\.wdm\\drivers\\chromedriver\\win32\\92.0.4515.107\\chromedriver.exe] found in cache\n"
     ]
    },
    {
     "output_type": "stream",
     "name": "stdout",
     "text": [
      "https://spaceimages-mars.com/image/featured/mars3.jpg\n"
     ]
    }
   ],
   "metadata": {}
  },
  {
   "cell_type": "markdown",
   "source": [
    "Scraping with Pandas"
   ],
   "metadata": {}
  },
  {
   "cell_type": "code",
   "execution_count": 38,
   "source": [
    "url = 'https://galaxyfacts-mars.com/'\r\n",
    "tables = pd.read_html(url)\r\n",
    "tables"
   ],
   "outputs": [
    {
     "output_type": "execute_result",
     "data": {
      "text/plain": [
       "[                         0                1                2\n",
       " 0  Mars - Earth Comparison             Mars            Earth\n",
       " 1                Diameter:         6,779 km        12,742 km\n",
       " 2                    Mass:  6.39 × 10^23 kg  5.97 × 10^24 kg\n",
       " 3                   Moons:                2                1\n",
       " 4       Distance from Sun:   227,943,824 km   149,598,262 km\n",
       " 5          Length of Year:   687 Earth days      365.24 days\n",
       " 6             Temperature:     -87 to -5 °C      -88 to 58°C,\n",
       "                       0                              1\n",
       " 0  Equatorial Diameter:                       6,792 km\n",
       " 1       Polar Diameter:                       6,752 km\n",
       " 2                 Mass:  6.39 × 10^23 kg (0.11 Earths)\n",
       " 3                Moons:          2 ( Phobos & Deimos )\n",
       " 4       Orbit Distance:       227,943,824 km (1.38 AU)\n",
       " 5         Orbit Period:           687 days (1.9 years)\n",
       " 6  Surface Temperature:                   -87 to -5 °C\n",
       " 7         First Record:              2nd millennium BC\n",
       " 8          Recorded By:           Egyptian astronomers]"
      ]
     },
     "metadata": {},
     "execution_count": 38
    }
   ],
   "metadata": {}
  },
  {
   "cell_type": "markdown",
   "source": [
    "Transpose the Mars Planet Profile table with appropriate Headers"
   ],
   "metadata": {}
  },
  {
   "cell_type": "code",
   "execution_count": 43,
   "source": [
    "profile_df = tables[1]\r\n",
    "transpose_profile_df = profile_df.transpose()\r\n",
    "transpose_profile_df.columns = transpose_profile_df.iloc[0]\r\n",
    "transpose_profile_df = transpose_profile_df[1:]\r\n",
    "transpose_profile_df"
   ],
   "outputs": [
    {
     "output_type": "execute_result",
     "data": {
      "text/plain": [
       "0 Equatorial Diameter: Polar Diameter:                          Mass:  \\\n",
       "1             6,792 km        6,752 km  6.39 × 10^23 kg (0.11 Earths)   \n",
       "\n",
       "0                 Moons:           Orbit Distance:         Orbit Period:  \\\n",
       "1  2 ( Phobos & Deimos )  227,943,824 km (1.38 AU)  687 days (1.9 years)   \n",
       "\n",
       "0 Surface Temperature:      First Record:          Recorded By:  \n",
       "1         -87 to -5 °C  2nd millennium BC  Egyptian astronomers  "
      ],
      "text/html": [
       "<div>\n",
       "<style scoped>\n",
       "    .dataframe tbody tr th:only-of-type {\n",
       "        vertical-align: middle;\n",
       "    }\n",
       "\n",
       "    .dataframe tbody tr th {\n",
       "        vertical-align: top;\n",
       "    }\n",
       "\n",
       "    .dataframe thead th {\n",
       "        text-align: right;\n",
       "    }\n",
       "</style>\n",
       "<table border=\"1\" class=\"dataframe\">\n",
       "  <thead>\n",
       "    <tr style=\"text-align: right;\">\n",
       "      <th></th>\n",
       "      <th>Equatorial Diameter:</th>\n",
       "      <th>Polar Diameter:</th>\n",
       "      <th>Mass:</th>\n",
       "      <th>Moons:</th>\n",
       "      <th>Orbit Distance:</th>\n",
       "      <th>Orbit Period:</th>\n",
       "      <th>Surface Temperature:</th>\n",
       "      <th>First Record:</th>\n",
       "      <th>Recorded By:</th>\n",
       "    </tr>\n",
       "  </thead>\n",
       "  <tbody>\n",
       "    <tr>\n",
       "      <th>1</th>\n",
       "      <td>6,792 km</td>\n",
       "      <td>6,752 km</td>\n",
       "      <td>6.39 × 10^23 kg (0.11 Earths)</td>\n",
       "      <td>2 ( Phobos &amp; Deimos )</td>\n",
       "      <td>227,943,824 km (1.38 AU)</td>\n",
       "      <td>687 days (1.9 years)</td>\n",
       "      <td>-87 to -5 °C</td>\n",
       "      <td>2nd millennium BC</td>\n",
       "      <td>Egyptian astronomers</td>\n",
       "    </tr>\n",
       "  </tbody>\n",
       "</table>\n",
       "</div>"
      ]
     },
     "metadata": {},
     "execution_count": 43
    }
   ],
   "metadata": {}
  },
  {
   "cell_type": "markdown",
   "source": [
    "Converting the Mars Planet Profile Pandas Dataframe to HTML table"
   ],
   "metadata": {}
  },
  {
   "cell_type": "code",
   "execution_count": 45,
   "source": [
    "html_profile_table = transpose_profile_df.to_html()\r\n",
    "html_profile_table"
   ],
   "outputs": [
    {
     "output_type": "execute_result",
     "data": {
      "text/plain": [
       "'<table border=\"1\" class=\"dataframe\">\\n  <thead>\\n    <tr style=\"text-align: right;\">\\n      <th></th>\\n      <th>Equatorial Diameter:</th>\\n      <th>Polar Diameter:</th>\\n      <th>Mass:</th>\\n      <th>Moons:</th>\\n      <th>Orbit Distance:</th>\\n      <th>Orbit Period:</th>\\n      <th>Surface Temperature:</th>\\n      <th>First Record:</th>\\n      <th>Recorded By:</th>\\n    </tr>\\n  </thead>\\n  <tbody>\\n    <tr>\\n      <th>1</th>\\n      <td>6,792 km</td>\\n      <td>6,752 km</td>\\n      <td>6.39 × 10^23 kg (0.11 Earths)</td>\\n      <td>2 ( Phobos &amp; Deimos )</td>\\n      <td>227,943,824 km (1.38 AU)</td>\\n      <td>687 days (1.9 years)</td>\\n      <td>-87 to -5 °C</td>\\n      <td>2nd millennium BC</td>\\n      <td>Egyptian astronomers</td>\\n    </tr>\\n  </tbody>\\n</table>'"
      ]
     },
     "metadata": {},
     "execution_count": 45
    }
   ],
   "metadata": {}
  },
  {
   "cell_type": "markdown",
   "source": [
    "Transpose the Mars - Earth Comparision table with appropriate Headers"
   ],
   "metadata": {}
  },
  {
   "cell_type": "code",
   "execution_count": 46,
   "source": [
    "comparision_df = tables[0]\r\n",
    "transpose_comp_df = comparision_df.transpose()\r\n",
    "transpose_comp_df.columns = transpose_comp_df.iloc[0]\r\n",
    "transpose_comp_df = transpose_comp_df[1:]\r\n",
    "transpose_comp_df"
   ],
   "outputs": [
    {
     "output_type": "execute_result",
     "data": {
      "text/plain": [
       "0 Mars - Earth Comparison  Diameter:            Mass: Moons:  \\\n",
       "1                    Mars   6,779 km  6.39 × 10^23 kg      2   \n",
       "2                   Earth  12,742 km  5.97 × 10^24 kg      1   \n",
       "\n",
       "0 Distance from Sun: Length of Year:  Temperature:  \n",
       "1     227,943,824 km  687 Earth days  -87 to -5 °C  \n",
       "2     149,598,262 km     365.24 days   -88 to 58°C  "
      ],
      "text/html": [
       "<div>\n",
       "<style scoped>\n",
       "    .dataframe tbody tr th:only-of-type {\n",
       "        vertical-align: middle;\n",
       "    }\n",
       "\n",
       "    .dataframe tbody tr th {\n",
       "        vertical-align: top;\n",
       "    }\n",
       "\n",
       "    .dataframe thead th {\n",
       "        text-align: right;\n",
       "    }\n",
       "</style>\n",
       "<table border=\"1\" class=\"dataframe\">\n",
       "  <thead>\n",
       "    <tr style=\"text-align: right;\">\n",
       "      <th></th>\n",
       "      <th>Mars - Earth Comparison</th>\n",
       "      <th>Diameter:</th>\n",
       "      <th>Mass:</th>\n",
       "      <th>Moons:</th>\n",
       "      <th>Distance from Sun:</th>\n",
       "      <th>Length of Year:</th>\n",
       "      <th>Temperature:</th>\n",
       "    </tr>\n",
       "  </thead>\n",
       "  <tbody>\n",
       "    <tr>\n",
       "      <th>1</th>\n",
       "      <td>Mars</td>\n",
       "      <td>6,779 km</td>\n",
       "      <td>6.39 × 10^23 kg</td>\n",
       "      <td>2</td>\n",
       "      <td>227,943,824 km</td>\n",
       "      <td>687 Earth days</td>\n",
       "      <td>-87 to -5 °C</td>\n",
       "    </tr>\n",
       "    <tr>\n",
       "      <th>2</th>\n",
       "      <td>Earth</td>\n",
       "      <td>12,742 km</td>\n",
       "      <td>5.97 × 10^24 kg</td>\n",
       "      <td>1</td>\n",
       "      <td>149,598,262 km</td>\n",
       "      <td>365.24 days</td>\n",
       "      <td>-88 to 58°C</td>\n",
       "    </tr>\n",
       "  </tbody>\n",
       "</table>\n",
       "</div>"
      ]
     },
     "metadata": {},
     "execution_count": 46
    }
   ],
   "metadata": {}
  },
  {
   "cell_type": "markdown",
   "source": [
    "Converting the Mars - Earth Comparision Pandas Dataframe to HTML table"
   ],
   "metadata": {}
  },
  {
   "cell_type": "code",
   "execution_count": 47,
   "source": [
    "html_comp_table = transpose_comp_df.to_html()\r\n",
    "html_comp_table"
   ],
   "outputs": [
    {
     "output_type": "execute_result",
     "data": {
      "text/plain": [
       "'<table border=\"1\" class=\"dataframe\">\\n  <thead>\\n    <tr style=\"text-align: right;\">\\n      <th></th>\\n      <th>Mars - Earth Comparison</th>\\n      <th>Diameter:</th>\\n      <th>Mass:</th>\\n      <th>Moons:</th>\\n      <th>Distance from Sun:</th>\\n      <th>Length of Year:</th>\\n      <th>Temperature:</th>\\n    </tr>\\n  </thead>\\n  <tbody>\\n    <tr>\\n      <th>1</th>\\n      <td>Mars</td>\\n      <td>6,779 km</td>\\n      <td>6.39 × 10^23 kg</td>\\n      <td>2</td>\\n      <td>227,943,824 km</td>\\n      <td>687 Earth days</td>\\n      <td>-87 to -5 °C</td>\\n    </tr>\\n    <tr>\\n      <th>2</th>\\n      <td>Earth</td>\\n      <td>12,742 km</td>\\n      <td>5.97 × 10^24 kg</td>\\n      <td>1</td>\\n      <td>149,598,262 km</td>\\n      <td>365.24 days</td>\\n      <td>-88 to 58°C</td>\\n    </tr>\\n  </tbody>\\n</table>'"
      ]
     },
     "metadata": {},
     "execution_count": 47
    }
   ],
   "metadata": {}
  }
 ],
 "metadata": {
  "orig_nbformat": 4,
  "language_info": {
   "name": "python",
   "version": "3.6.10",
   "mimetype": "text/x-python",
   "codemirror_mode": {
    "name": "ipython",
    "version": 3
   },
   "pygments_lexer": "ipython3",
   "nbconvert_exporter": "python",
   "file_extension": ".py"
  },
  "kernelspec": {
   "name": "python3",
   "display_name": "Python 3.6.10 64-bit ('PythonData2': conda)"
  },
  "interpreter": {
   "hash": "e0b418b09ac47957412e0b1b3ad755156e145bf5e9f3a21911cb1dcef404ebf8"
  }
 },
 "nbformat": 4,
 "nbformat_minor": 2
}
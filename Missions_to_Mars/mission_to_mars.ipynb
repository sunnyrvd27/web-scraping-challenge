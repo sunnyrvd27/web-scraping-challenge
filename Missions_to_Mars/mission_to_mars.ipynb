{
 "cells": [
  {
   "cell_type": "code",
   "execution_count": 18,
   "source": [
    "# Importing the relevent directories\r\n",
    "\r\n",
    "from splinter import Browser\r\n",
    "from bs4 import BeautifulSoup\r\n",
    "from webdriver_manager.chrome import ChromeDriverManager"
   ],
   "outputs": [],
   "metadata": {}
  },
  {
   "cell_type": "code",
   "execution_count": 19,
   "source": [
    " # Setup splinter\r\n",
    "executable_path = {'executable_path': ChromeDriverManager().install()}\r\n",
    "browser = Browser('chrome', **executable_path, headless=False)"
   ],
   "outputs": [
    {
     "output_type": "stream",
     "name": "stderr",
     "text": [
      "\n",
      "\n",
      "====== WebDriver manager ======\n",
      "Current google-chrome version is 92.0.4515\n",
      "Get LATEST driver version for 92.0.4515\n",
      "Driver [C:\\Users\\sunny\\.wdm\\drivers\\chromedriver\\win32\\92.0.4515.107\\chromedriver.exe] found in cache\n"
     ]
    }
   ],
   "metadata": {}
  },
  {
   "cell_type": "code",
   "execution_count": 20,
   "source": [
    "# Creating a list to scrapping data\r\n",
    "\r\n",
    "marslatest = {}"
   ],
   "outputs": [],
   "metadata": {}
  },
  {
   "cell_type": "markdown",
   "source": [
    "Scraping data using Splinter for https://redplanetscience.com/ where we need the Latest news title and paragraph"
   ],
   "metadata": {}
  },
  {
   "cell_type": "code",
   "execution_count": 21,
   "source": [
    "    # URL for NASA Mars News\r\n",
    "    url = 'https://redplanetscience.com/'\r\n",
    "    browser.visit(url)\r\n",
    "      \r\n",
    "    # HTML object\r\n",
    "    html = browser.html\r\n",
    "\r\n",
    "    # Parse HTML with Beautiful Soup\r\n",
    "    soup = BeautifulSoup(html, 'html.parser')\r\n",
    "\r\n",
    "    # Retrieve all elements that contain book information\r\n",
    "    latestnews = soup.find_all('div', class_='list_text')\r\n",
    "\r\n",
    "    for news in latestnews:\r\n",
    "        marslatest[\"title\"]     = news.find(class_='content_title').get_text()\r\n",
    "        marslatest[\"paragraph\"] = news.find(class_='article_teaser_body').get_text()\r\n",
    "        print(marslatest)\r\n",
    "        print(\"---------------------------------------------------------------------------------------------------------------------\")"
   ],
   "outputs": [
    {
     "output_type": "stream",
     "name": "stdout",
     "text": [
      "{'title': '7 Things to Know About the Mars 2020 Perseverance Rover Mission', 'paragraph': \"NASA's next rover to the Red Planet is slated to launch no earlier than July 30. These highlights will get you up to speed on the ambitious mission.\"}\n",
      "---------------------------------------------------------------------------------------------------------------------\n",
      "{'title': 'My Culture, My Voice', 'paragraph': 'In honor of Hispanic Heritage Month, Christina Hernandez, an instrument engineer on the Mars 2020 mission, talks about her childhood and journey to NASA.'}\n",
      "---------------------------------------------------------------------------------------------------------------------\n",
      "{'title': \"NASA Readies Perseverance Mars Rover's Earthly Twin \", 'paragraph': \"Did you know NASA's next Mars rover has a nearly identical sibling on Earth for testing? Even better, it's about to roll for the first time through a replica Martian landscape.\"}\n",
      "---------------------------------------------------------------------------------------------------------------------\n",
      "{'title': 'NASA Wins Two Emmy Awards for Interactive Mission Coverage', 'paragraph': \"NASA-JPL's coverage of the Mars InSight landing earns one of the two wins, making this the NASA center's second Emmy.\"}\n",
      "---------------------------------------------------------------------------------------------------------------------\n",
      "{'title': \"All About the Laser (and Microphone) Atop Mars 2020, NASA's Next Rover\", 'paragraph': 'SuperCam is a rock-vaporizing instrument that will help scientists hunt for Mars fossils.'}\n",
      "---------------------------------------------------------------------------------------------------------------------\n",
      "{'title': 'NASA Moves Forward With Campaign to Return Mars Samples to Earth', 'paragraph': 'During this next phase, the program will mature critical technologies and make critical design decisions as well as assess industry partnerships.'}\n",
      "---------------------------------------------------------------------------------------------------------------------\n",
      "{'title': \"HiRISE Views NASA's InSight and Curiosity on Mars\", 'paragraph': 'New images taken from space offer the clearest orbital glimpse yet of InSight as well as a view of Curiosity rolling along.'}\n",
      "---------------------------------------------------------------------------------------------------------------------\n",
      "{'title': \"5 Hidden Gems Are Riding Aboard NASA's Perseverance Rover\", 'paragraph': \"The symbols, mottos, and small objects added to the agency's newest Mars rover serve a variety of purposes, from functional to decorative.\"}\n",
      "---------------------------------------------------------------------------------------------------------------------\n",
      "{'title': 'Space History Is Made in This NASA Robot Factory', 'paragraph': \"From rockets to rovers, JPL's Spacecraft Assembly Facility has been at the center of robotic spaceflight. Here's a closer look at what makes it so special.\"}\n",
      "---------------------------------------------------------------------------------------------------------------------\n",
      "{'title': \"NASA's Mars Helicopter Attached to Mars 2020 Rover \", 'paragraph': 'The helicopter will be first aircraft to perform flight tests on another planet.'}\n",
      "---------------------------------------------------------------------------------------------------------------------\n",
      "{'title': \"NASA's Curiosity Rover Finds an Ancient Oasis on Mars\", 'paragraph': \"New evidence suggests salty, shallow ponds once dotted a Martian crater — a sign of the planet's drying climate.\"}\n",
      "---------------------------------------------------------------------------------------------------------------------\n",
      "{'title': \"Nine Finalists Chosen in NASA's Mars 2020 Rover Naming Contest\", 'paragraph': \"Nine finalists have been chosen in the essay contest for K-12 students across U.S. to name NASA's next Mars rover. Now you can help by voting for your favorite. \"}\n",
      "---------------------------------------------------------------------------------------------------------------------\n",
      "{'title': \"3 Things We've Learned From NASA's Mars InSight \", 'paragraph': 'Scientists are finding new mysteries since the geophysics mission landed two years ago.'}\n",
      "---------------------------------------------------------------------------------------------------------------------\n",
      "{'title': \"The Launch Is Approaching for NASA's Next Mars Rover, Perseverance\", 'paragraph': \"The Red Planet's surface has been visited by eight NASA spacecraft. The ninth will be the first that includes a roundtrip ticket in its flight plan. \"}\n",
      "---------------------------------------------------------------------------------------------------------------------\n",
      "{'title': \"Q&A with the Student Who Named Ingenuity, NASA's Mars Helicopter\", 'paragraph': 'As a longtime fan of space exploration, Vaneeza Rupani appreciates the creativity and collaboration involved with trying to fly on another planet.'}\n",
      "---------------------------------------------------------------------------------------------------------------------\n"
     ]
    }
   ],
   "metadata": {}
  },
  {
   "cell_type": "code",
   "execution_count": null,
   "source": [],
   "outputs": [],
   "metadata": {}
  }
 ],
 "metadata": {
  "orig_nbformat": 4,
  "language_info": {
   "name": "python",
   "version": "3.6.10",
   "mimetype": "text/x-python",
   "codemirror_mode": {
    "name": "ipython",
    "version": 3
   },
   "pygments_lexer": "ipython3",
   "nbconvert_exporter": "python",
   "file_extension": ".py"
  },
  "kernelspec": {
   "name": "python3",
   "display_name": "Python 3.6.10 64-bit ('PythonData2': conda)"
  },
  "interpreter": {
   "hash": "e0b418b09ac47957412e0b1b3ad755156e145bf5e9f3a21911cb1dcef404ebf8"
  }
 },
 "nbformat": 4,
 "nbformat_minor": 2
}